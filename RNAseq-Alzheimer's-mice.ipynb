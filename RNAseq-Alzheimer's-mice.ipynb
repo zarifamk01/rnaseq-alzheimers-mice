{
 "cells": [
  {
   "cell_type": "code",
   "execution_count": 1,
   "id": "178de2ee",
   "metadata": {},
   "outputs": [],
   "source": [
    "#Import necessary libraries\n",
    "import pandas as pd\n",
    "import numpy as np\n",
    "import matplotlib.pyplot as plt\n",
    "from sklearn.decomposition import PCA\n",
    "from sklearn.preprocessing import StandardScaler"
   ]
  },
  {
   "cell_type": "code",
   "execution_count": 6,
   "id": "00db2a94",
   "metadata": {},
   "outputs": [
    {
     "name": "stdout",
     "output_type": "stream",
     "text": [
      "Index(['refinebio_accession_code', 'experiment_accession', 'refinebio_age',\n",
      "       'refinebio_cell_line', 'refinebio_compound',\n",
      "       'refinebio_developmental_stage', 'refinebio_disease',\n",
      "       'refinebio_disease_stage', 'refinebio_genetic_information',\n",
      "       'refinebio_organism', 'refinebio_platform', 'refinebio_processed',\n",
      "       'refinebio_processor_id', 'refinebio_processor_name',\n",
      "       'refinebio_processor_version', 'refinebio_race', 'refinebio_sex',\n",
      "       'refinebio_source_archive_url', 'refinebio_source_database',\n",
      "       'refinebio_specimen_part', 'refinebio_subject', 'refinebio_time',\n",
      "       'refinebio_title', 'refinebio_treatment', 'MetaSRA_age',\n",
      "       'MetaSRA_age.unit'],\n",
      "      dtype='object')\n",
      "  refinebio_accession_code experiment_accession  refinebio_age  \\\n",
      "0               SRR9264271            SRP201011            4.0   \n",
      "1               SRR9264272            SRP201011            4.0   \n",
      "2               SRR9264273            SRP201011            4.0   \n",
      "3               SRR9264274            SRP201011            4.0   \n",
      "4               SRR9264275            SRP201011            4.0   \n",
      "\n",
      "  refinebio_cell_line  refinebio_compound  refinebio_developmental_stage  \\\n",
      "0             c57bl/6                 NaN                            NaN   \n",
      "1             c57bl/6                 NaN                            NaN   \n",
      "2             c57bl/6                 NaN                            NaN   \n",
      "3             c57bl/6                 NaN                            NaN   \n",
      "4             c57bl/6                 NaN                            NaN   \n",
      "\n",
      "   refinebio_disease  refinebio_disease_stage  refinebio_genetic_information  \\\n",
      "0                NaN                      NaN                            NaN   \n",
      "1                NaN                      NaN                            NaN   \n",
      "2                NaN                      NaN                            NaN   \n",
      "3                NaN                      NaN                            NaN   \n",
      "4                NaN                      NaN                            NaN   \n",
      "\n",
      "  refinebio_organism  ... refinebio_sex  refinebio_source_archive_url  \\\n",
      "0       MUS_MUSCULUS  ...           NaN                           NaN   \n",
      "1       MUS_MUSCULUS  ...           NaN                           NaN   \n",
      "2       MUS_MUSCULUS  ...           NaN                           NaN   \n",
      "3       MUS_MUSCULUS  ...           NaN                           NaN   \n",
      "4       MUS_MUSCULUS  ...           NaN                           NaN   \n",
      "\n",
      "   refinebio_source_database refinebio_specimen_part refinebio_subject  \\\n",
      "0                        SRA                     NaN             brain   \n",
      "1                        SRA                     NaN             brain   \n",
      "2                        SRA                     NaN             brain   \n",
      "3                        SRA                     NaN             brain   \n",
      "4                        SRA                     NaN             brain   \n",
      "\n",
      "   refinebio_time                     refinebio_title  refinebio_treatment  \\\n",
      "0             NaN      GAa5-3-GAa5_FAD11_Adapter14_4M                  NaN   \n",
      "1             NaN  GAa5-4-GAa5_FAD_TRKO3_Adapter16_4M                  NaN   \n",
      "2             NaN         GAa6-1-GAa6_WT1_Adapter5_4M                  NaN   \n",
      "3             NaN       GAa6-3-GAa6_FAD1_Adapter13_4M                  NaN   \n",
      "4             NaN  GAa6-4-GAa6_FAD_TRKO1_Adapter19_4M                  NaN   \n",
      "\n",
      "  MetaSRA_age  MetaSRA_age.unit  \n",
      "0         4.0             month  \n",
      "1         4.0             month  \n",
      "2         4.0             month  \n",
      "3         4.0             month  \n",
      "4         4.0             month  \n",
      "\n",
      "[5 rows x 26 columns]\n"
     ]
    }
   ],
   "source": [
    "# Define file paths\n",
    "metadata_file = 'C:\\\\Users\\\\zkabir\\\\Downloads\\\\77d3ae33-7c0e-4f54-a52f-5594881daa16\\\\SRP201011\\\\metadata_SRP201011.tsv'\n",
    "data_file = 'C:\\\\Users\\\\zkabir\\\\Downloads\\\\77d3ae33-7c0e-4f54-a52f-5594881daa16\\\\SRP201011\\\\SRP201011.tsv'\n",
    "\n",
    "#Load metadata\n",
    "metadata_df = pd.read_csv(metadata_file, sep='\\t')\n",
    "\n",
    "#Load RNA-seq data (if in SRP201011.tsv)\n",
    "data_df = pd.read_csv(data_file, sep='\\t')\n",
    "\n",
    "#Display metadata columns and sample information\n",
    "print(metadata_df.columns)\n",
    "print(metadata_df.head())\n",
    "\n"
   ]
  },
  {
   "cell_type": "code",
   "execution_count": null,
   "id": "f1998b48",
   "metadata": {},
   "outputs": [],
   "source": []
  },
  {
   "cell_type": "code",
   "execution_count": null,
   "id": "3a214353",
   "metadata": {},
   "outputs": [],
   "source": []
  }
 ],
 "metadata": {
  "kernelspec": {
   "display_name": "Python 3 (ipykernel)",
   "language": "python",
   "name": "python3"
  },
  "language_info": {
   "codemirror_mode": {
    "name": "ipython",
    "version": 3
   },
   "file_extension": ".py",
   "mimetype": "text/x-python",
   "name": "python",
   "nbconvert_exporter": "python",
   "pygments_lexer": "ipython3",
   "version": "3.11.5"
  }
 },
 "nbformat": 4,
 "nbformat_minor": 5
}
